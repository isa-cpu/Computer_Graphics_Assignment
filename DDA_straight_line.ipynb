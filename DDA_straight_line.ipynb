{
 "cells": [
  {
   "cell_type": "code",
   "execution_count": 1,
   "metadata": {},
   "outputs": [],
   "source": [
    "# importing matplot\n",
    "import matplotlib.pyplot as plt"
   ]
  },
  {
   "cell_type": "code",
   "execution_count": 10,
   "metadata": {},
   "outputs": [
    {
     "name": "stdout",
     "output_type": "stream",
     "text": [
      "Enter the value of x1\n",
      "3\n",
      "Enter the value of x2\n",
      "6\n",
      "Enter the value of y1\n",
      "5\n",
      "Enter the value of y2\n",
      "10\n"
     ]
    }
   ],
   "source": [
    "# now getting the inputs from user\n",
    "print('Enter the value of x1')\n",
    "x1 = int(input())\n",
    "\n",
    "print('Enter the value of x2')\n",
    "x2 = int(input())\n",
    "\n",
    "print('Enter the value of y1')\n",
    "y1 = int(input())\n",
    "\n",
    "print('Enter the value of y2')\n",
    "y2 = int(input())"
   ]
  },
  {
   "cell_type": "code",
   "execution_count": 11,
   "metadata": {},
   "outputs": [
    {
     "name": "stdout",
     "output_type": "stream",
     "text": [
      "x1:  3.6 y1:  6.0\n",
      "x1:  4.2 y1:  7.0\n",
      "x1:  4.8 y1:  8.0\n",
      "x1:  5.3999999999999995 y1:  9.0\n",
      "x1:  5.999999999999999 y1:  10.0\n"
     ]
    },
    {
     "data": {
      "image/png": "[encoded data removed]",
      "text/plain": [
       "<Figure size 432x288 with 1 Axes>"
      ]
     },
     "metadata": {
      "needs_background": "light"
     },
     "output_type": "display_data"
    }
   ],
   "source": [
    "# now claculations\n",
    "dx = x2 - x1\n",
    "dy = y2 -y1\n",
    "\n",
    "# checking if conditions\n",
    "if abs(dx) > abs(dy):\n",
    "    steps = abs(dx)\n",
    "else:\n",
    "    steps = abs(dy)\n",
    "    \n",
    "xincrement = dx/steps\n",
    "yincrement = dy/steps\n",
    "\n",
    "# initializing i\n",
    "i = 0\n",
    "\n",
    "xcoordinates = []\n",
    "ycoordinates = []\n",
    "\n",
    "# now looping through\n",
    "while i < steps:\n",
    "    i += 1\n",
    "    x1 = x1 + xincrement\n",
    "    y1 = y1 + yincrement\n",
    "    \n",
    "    print('x1: ',x1, 'y1: ', y1)\n",
    "    xcoordinates.append(x1)\n",
    "    ycoordinates.append(y1)\n",
    "    \n",
    "#     now ploting the graph\n",
    "plt.plot(xcoordinates,ycoordinates)\n",
    "plt.xlabel('x-Axis')\n",
    "plt.ylabel('y-Axis')\n",
    "\n",
    "plt.title('DDA Algorithm')\n",
    "plt.show()"
   ]
  },
  {
   "cell_type": "code",
   "execution_count": null,
   "metadata": {},
   "outputs": [],
   "source": []
  },
  {
   "cell_type": "code",
   "execution_count": null,
   "metadata": {},
   "outputs": [],
   "source": []
  }
 ],
 "metadata": {
  "kernelspec": {
   "display_name": "Python 3",
   "language": "python",
   "name": "python3"
  },
  "language_info": {
   "codemirror_mode": {
    "name": "ipython",
    "version": 3
   },
   "file_extension": ".py",
   "mimetype": "text/x-python",
   "name": "python",
   "nbconvert_exporter": "python",
   "pygments_lexer": "ipython3",
   "version": "3.8.5"
  }
 },
 "nbformat": 4,
 "nbformat_minor": 4
}
