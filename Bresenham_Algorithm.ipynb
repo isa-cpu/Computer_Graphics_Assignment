{
 "cells": [
  {
   "cell_type": "code",
   "execution_count": 1,
   "metadata": {},
   "outputs": [],
   "source": [
    "# now importing \n",
    "import matplotlib.pyplot as plt"
   ]
  },
  {
   "cell_type": "code",
   "execution_count": 2,
   "metadata": {},
   "outputs": [
    {
     "name": "stdout",
     "output_type": "stream",
     "text": [
      "Enter x12\n",
      "Enter y13\n",
      "Enter x26\n",
      "Enter y28\n"
     ]
    }
   ],
   "source": [
    "# getting inputs\n",
    "x1 = int(input('Enter x1'))\n",
    "y1 = int(input('Enter y1'))\n",
    "x2 = int(input('Enter x2'))\n",
    "y2 = int(input('Enter y2'))\n",
    "\n"
   ]
  },
  {
   "cell_type": "code",
   "execution_count": 6,
   "metadata": {},
   "outputs": [
    {
     "name": "stdout",
     "output_type": "stream",
     "text": [
      "x = 2, y = 3\n",
      "x = 3, y = 5\n"
     ]
    },
    {
     "data": {
      "image/png": "[encoded data removed]",
      "text/plain": [
       "<Figure size 432x288 with 1 Axes>"
      ]
     },
     "metadata": {
      "needs_background": "light"
     },
     "output_type": "display_data"
    }
   ],
   "source": [
    "# calculations\n",
    "x,y = x1,y1\n",
    "x,y = x1,y1\n",
    "dx = abs(x2 - x1)\n",
    "dy = abs(y2 - y1)\n",
    "gradient = dy/float(dx)\n",
    "    \n",
    "#     checking conditions\n",
    "if gradient > 1:\n",
    "    dx,dy = dy, dx\n",
    "    x,y = x,y\n",
    "    x1,y1 = y1,x1\n",
    "    x2,y2 = y2,x2\n",
    "        \n",
    "    p = 2* dy - dx\n",
    "    print('x = %s, y = %s' % (x,y))\n",
    "        \n",
    "    xcoordinates = [x]\n",
    "    ycoordinates = [y]\n",
    "        \n",
    "#         now looping through\n",
    "    for k in range(dx):\n",
    "        if p > 0:\n",
    "            y = y + 1 if y < y2 else y - 1\n",
    "            p = p + 2 * (dy - dx)\n",
    "        else:\n",
    "                p = p+2 * dy\n",
    "                x = x + 1 if x < x2 else x - 1\n",
    "                \n",
    "                print('x = %s, y = %s' % (x,y))\n",
    "                xcoordinates.append(x)\n",
    "                ycoordinates.append(y)\n",
    "                \n",
    "                \n",
    "#     now ploting the graph\n",
    "                \n",
    "plt.plot(xcoordinates,ycoordinates)\n",
    "plt.xlabel('X-Axis')\n",
    "plt.ylabel('Y-Yxis')\n",
    "plt.title('Bresenham Algorithm')\n",
    "plt.show()\n",
    "                "
   ]
  },
  {
   "cell_type": "code",
   "execution_count": null,
   "metadata": {},
   "outputs": [],
   "source": []
  },
  {
   "cell_type": "code",
   "execution_count": 32,
   "metadata": {},
   "outputs": [],
   "source": []
  },
  {
   "cell_type": "code",
   "execution_count": null,
   "metadata": {},
   "outputs": [],
   "source": []
  },
  {
   "cell_type": "code",
   "execution_count": null,
   "metadata": {},
   "outputs": [],
   "source": []
  }
 ],
 "metadata": {
  "kernelspec": {
   "display_name": "Python 3",
   "language": "python",
   "name": "python3"
  },
  "language_info": {
   "codemirror_mode": {
    "name": "ipython",
    "version": 3
   },
   "file_extension": ".py",
   "mimetype": "text/x-python",
   "name": "python",
   "nbconvert_exporter": "python",
   "pygments_lexer": "ipython3",
   "version": "3.8.5"
  }
 },
 "nbformat": 4,
 "nbformat_minor": 4
}
